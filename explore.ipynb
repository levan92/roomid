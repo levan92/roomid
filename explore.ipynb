{
 "cells": [
  {
   "cell_type": "code",
   "execution_count": 1,
   "metadata": {},
   "outputs": [],
   "source": [
    "import torch\n",
    "from torch import nn"
   ]
  },
  {
   "cell_type": "code",
   "execution_count": 21,
   "metadata": {},
   "outputs": [],
   "source": [
    "# del new_model, resnet18, resnet50, resnet101\n",
    "torch.cuda.empty_cache()"
   ]
  },
  {
   "cell_type": "markdown",
   "metadata": {},
   "source": [
    "## Preprocessing"
   ]
  },
  {
   "cell_type": "code",
   "execution_count": null,
   "metadata": {},
   "outputs": [],
   "source": [
    "normalize = transforms.Normalize(mean=[0.485, 0.456, 0.406],\n",
    "                                 std=[0.229, 0.224, 0.225])"
   ]
  },
  {
   "cell_type": "markdown",
   "metadata": {},
   "source": [
    "### Train"
   ]
  },
  {
   "cell_type": "code",
   "execution_count": null,
   "metadata": {},
   "outputs": [],
   "source": [
    "preprocessing = transforms.Compose([\n",
    "    transforms.RandomSizedCrop(224),\n",
    "    transforms.RandomHorizontalFlip(),\n",
    "    transforms.ToTensor(),\n",
    "    normalize,\n",
    "])"
   ]
  },
  {
   "cell_type": "markdown",
   "metadata": {},
   "source": [
    "### Val"
   ]
  },
  {
   "cell_type": "code",
   "execution_count": null,
   "metadata": {},
   "outputs": [],
   "source": [
    "preprocessing = transforms.Compose([\n",
    "    transforms.Scale(256),\n",
    "    transforms.CenterCrop(224),\n",
    "    transforms.ToTensor(),\n",
    "    normalize,\n",
    "])"
   ]
  },
  {
   "cell_type": "code",
   "execution_count": null,
   "metadata": {},
   "outputs": [],
   "source": [
    "INPUT_WIDTH = 224"
   ]
  },
  {
   "cell_type": "code",
   "execution_count": null,
   "metadata": {},
   "outputs": [],
   "source": [
    "def preprocess(np_image_bgr):\n",
    "    '''\n",
    "    Preprocessing for embedder network: Flips BGR to RGB, resize, convert to torch tensor, normalise with imagenet mean and variance, reshape. Note: input image yet to be loaded to GPU through tensor.cuda()\n",
    "\n",
    "    Parameters\n",
    "    ----------\n",
    "    np_image_bgr : ndarray\n",
    "        (H x W x C) in BGR\n",
    "\n",
    "    Returns\n",
    "    -------\n",
    "    Torch Tensor\n",
    "\n",
    "    '''\n",
    "    np_image_rgb = np_image_bgr[...,::-1]\n",
    "    np_image_rgb = cv2.resize(np_image_rgb, (INPUT_WIDTH, INPUT_WIDTH))\n",
    "    input_image = transforms.ToTensor()(np_image_rgb)\n",
    "    input_image = input_image.view(1,3,INPUT_WIDTH,INPUT_WIDTH)\n",
    "    return input_image"
   ]
  },
  {
   "cell_type": "code",
   "execution_count": 4,
   "metadata": {},
   "outputs": [],
   "source": [
    "from torch import nn\n",
    "from pathlib import Path\n",
    "import torchvision.models as models\n",
    "\n",
    "class Resnet_Embedder(object):\n",
    "    '''\n",
    "    Resnet_Embedder loads a resnet pretrained on Imagenet1000, with classification layer removed, exposing the bottleneck layer, outputing a feature of size 1280. \n",
    "    '''\n",
    "    def __init__(self, model_wts_path = None, depth=50):\n",
    "        if model_wts_path is None:\n",
    "            pretrained=True\n",
    "        else:\n",
    "            pretrained=False\n",
    "            assert Path(model_wts_path).is_file(),'Model path does not exists!'\n",
    "            \n",
    "        if depth == 18:\n",
    "            full_model = models.resnet18(pretrained=pretrained)\n",
    "        elif depth == 50:\n",
    "            full_model = models.resnet50(pretrained=pretrained)\n",
    "        elif depth == 101:\n",
    "            full_model = models.resnet101(pretrained=pretrained)\n",
    "        else:\n",
    "            assert True,'Resnet with specified depth {} does not exist!'.format(depth)\n",
    "\n",
    "        with torch.no_grad():\n",
    "            self.model = nn.Sequential(*list(full_model.children())[:-1])\n",
    "            del full_model\n",
    "        self.model.cuda() #loads model to gpu\n",
    "        self.model.eval() #inference mode, deactivates dropout layers \n",
    "        print('Resnet{} Embedder initialised!'.format(depth))\n",
    "        self.model.forward(torch.zeros(8, 3, INPUT_WIDTH, INPUT_WIDTH).cuda()) #warmup\n",
    "\n",
    "    def predict(self, np_image_bgr):\n",
    "        '''\n",
    "        singly inference\n",
    "\n",
    "        Params\n",
    "        ------\n",
    "        np_image_bgr : list of ndarray\n",
    "            list of (H x W x C) in BGR\n",
    "        \n",
    "        Returns\n",
    "        ------\n",
    "        list of features (np.array with dim = 1280)\n",
    "\n",
    "        '''\n",
    "                img = preprocess(img)\n",
    "                input_batch[k] = img\n",
    "#             # Batch inference\n",
    "#             # tic = time.time()\n",
    "#             input_batch = input_batch.cuda()\n",
    "#             # toc = time.time()\n",
    "#             # print('input to cuda time:{}s'.format(toc - tic))\n",
    "#             # tic = time.time()\n",
    "#             output = self.model.forward(input_batch)\n",
    "#             # toc = time.time()\n",
    "#             # print('real inference time: {}s'.format(toc - tic))\n",
    "#             all_feats.extend(output.cpu().data.numpy())\n",
    "#             remainder = total_size - batch_size\n",
    "#         return all_feats"
   ]
  },
  {
   "cell_type": "code",
   "execution_count": 5,
   "metadata": {},
   "outputs": [
    {
     "name": "stdout",
     "output_type": "stream",
     "text": [
      "Resnet50 Embedder initialised!\n"
     ]
    }
   ],
   "source": [
    "resmodel = Resnet_Embedder(depth=50)"
   ]
  },
  {
   "cell_type": "code",
   "execution_count": null,
   "metadata": {},
   "outputs": [],
   "source": [
    "resmodel"
   ]
  }
 ],
 "metadata": {
  "kernelspec": {
   "display_name": "Python 3",
   "language": "python",
   "name": "python3"
  },
  "language_info": {
   "codemirror_mode": {
    "name": "ipython",
    "version": 3
   },
   "file_extension": ".py",
   "mimetype": "text/x-python",
   "name": "python",
   "nbconvert_exporter": "python",
   "pygments_lexer": "ipython3",
   "version": "3.6.8"
  }
 },
 "nbformat": 4,
 "nbformat_minor": 2
}
