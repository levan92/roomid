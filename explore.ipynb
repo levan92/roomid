{
 "cells": [
  {
   "cell_type": "code",
   "execution_count": 3,
   "metadata": {},
   "outputs": [],
   "source": [
    "import cv2\n",
    "import torch\n",
    "from torch import nn\n",
    "from torchvision import transforms"
   ]
  },
  {
   "cell_type": "code",
   "execution_count": 4,
   "metadata": {},
   "outputs": [],
   "source": [
    "INPUT_WIDTH = 224"
   ]
  },
  {
   "cell_type": "code",
   "execution_count": 5,
   "metadata": {},
   "outputs": [],
   "source": [
    "normalise = transforms.Normalize(mean=[0.485, 0.456, 0.406],\n",
    "                                 std=[0.229, 0.224, 0.225]) "
   ]
  },
  {
   "cell_type": "code",
   "execution_count": 6,
   "metadata": {},
   "outputs": [],
   "source": [
    "def preprocess(np_image_bgr):\n",
    "    '''\n",
    "    Preprocessing for embedder network: Flips BGR to RGB, resize, convert to torch tensor, normalise with imagenet mean and variance, reshape. Note: input image yet to be loaded to GPU through tensor.cuda()\n",
    "\n",
    "    Parameters\n",
    "    ----------\n",
    "    np_image_bgr : ndarray\n",
    "        (H x W x C) in BGR\n",
    "\n",
    "    Returns\n",
    "    -------\n",
    "    Torch Tensor\n",
    "\n",
    "    '''\n",
    "    np_image_rgb = np_image_bgr[...,::-1]\n",
    "    np_image_rgb = cv2.resize(np_image_rgb, (INPUT_WIDTH, INPUT_WIDTH))\n",
    "    input_image = transforms.ToTensor()(np_image_rgb)\n",
    "    input_image = normalise(input_image) \n",
    "#     input_image = input_image.view(1,3,INPUT_WIDTH,INPUT_WIDTH)\n",
    "    return input_image"
   ]
  },
  {
   "cell_type": "code",
   "execution_count": 7,
   "metadata": {},
   "outputs": [],
   "source": [
    "from torch import nn\n",
    "from pathlib import Path\n",
    "import torchvision.models as models\n",
    "\n",
    "class Resnet_Embedder(object):\n",
    "    '''\n",
    "    Resnet_Embedder loads a resnet pretrained on Imagenet1000, with classification layer removed, exposing the bottleneck layer, outputing a feature of size 1280. \n",
    "    '''\n",
    "    def __init__(self, model_wts_path = None, depth=50, bs=8):\n",
    "        if model_wts_path is None:\n",
    "            pretrained=True\n",
    "        else:\n",
    "            pretrained=False\n",
    "            assert Path(model_wts_path).is_file(),'Model path does not exists!'\n",
    "            \n",
    "        if depth == 18:\n",
    "            full_model = models.resnet18(pretrained=pretrained)\n",
    "        elif depth == 50:\n",
    "            full_model = models.resnet50(pretrained=pretrained)\n",
    "        elif depth == 101:\n",
    "            full_model = models.resnet101(pretrained=pretrained)\n",
    "        else:\n",
    "            assert True,'Resnet with specified depth {} does not exist!'.format(depth)\n",
    "\n",
    "        with torch.no_grad():\n",
    "            self.model = nn.Sequential(*list(full_model.children())[:-1])\n",
    "            del full_model\n",
    "        self.model.cuda() #loads model to gpu\n",
    "        self.model.eval() #inference mode, deactivates dropout layers \n",
    "        print('Resnet{} Embedder initialised!'.format(depth))\n",
    "        self.bs = bs\n",
    "        self.model.forward(torch.zeros(self.bs, 3, INPUT_WIDTH, INPUT_WIDTH).cuda()) #warmup\n",
    "\n",
    "    def preprocess(self, np_image_bgr):\n",
    "        '''\n",
    "        Preprocessing for embedder network: Flips BGR to RGB, resize, convert to torch tensor, normalise with imagenet mean and variance, reshape. Note: input image yet to be loaded to GPU through tensor.cuda()\n",
    "\n",
    "        Parameters\n",
    "        ----------\n",
    "        np_image_bgr : ndarray\n",
    "            (H x W x C) in BGR\n",
    "\n",
    "        Returns\n",
    "        -------\n",
    "        Torch Tensor\n",
    "\n",
    "        '''\n",
    "        np_image_rgb = np_image_bgr[...,::-1]\n",
    "        np_image_rgb = cv2.resize(np_image_rgb, (INPUT_WIDTH, INPUT_WIDTH))\n",
    "        input_image = transforms.ToTensor()(np_image_rgb)\n",
    "        input_image = normalise(input_image) \n",
    "#         input_image = input_image.view(1,3,INPUT_WIDTH,INPUT_WIDTH)\n",
    "        return input_image\n",
    "\n",
    "    def forward(self, batch_tensor):\n",
    "        feats = self.model.forward(batch_tensor.cuda())\n",
    "        return feats.cpu().data.numpy()\n",
    "    \n",
    "    def predict(self, np_image_bgr):\n",
    "        '''\n",
    "        singly inference\n",
    "\n",
    "        Params\n",
    "        ------\n",
    "        np_image_bgr : ndarray\n",
    "            list of (H x W x C) in BGR\n",
    "        \n",
    "        Returns\n",
    "        ------\n",
    "        features (np.array)\n",
    "\n",
    "        '''\n",
    "        input_img = self.preprocess(np_image_bgr).cuda()\n",
    "        feats = self.model.forward(input_img)\n",
    "        return feats[0].cpu().data.numpy().flatten()\n",
    "\n",
    "    def predict_batch(self, list_of_np_image_bgr):\n",
    "        '''\n",
    "        singly inference\n",
    "\n",
    "        Params\n",
    "        ------\n",
    "        list_of_np_image_bgr : list of ndarray\n",
    "            list of (N x H x W x C) in BGR\n",
    "        \n",
    "        Returns\n",
    "        ------\n",
    "        list of features (np.array with dim = 1280)\n",
    "\n",
    "        '''\n",
    "        \n",
    "        for i in range(0, len(list_of_np_image_bgr), self.bs):\n",
    "            in_batch = preprocess(list_of_np_image_bgr[i:i+self.bs])\n",
    "            res = self.model.forward(in_batch)\n",
    "        \n",
    "        input_img = self.preprocess(np_image_bgr).cuda()\n",
    "        feats = self.model.forward(input_img)\n",
    "        return feats[0].cpu().data.numpy().flatten()\n",
    "    \n",
    "    "
   ]
  },
  {
   "cell_type": "code",
   "execution_count": 40,
   "metadata": {},
   "outputs": [],
   "source": [
    "import cv2\n",
    "from pathlib import Path\n",
    "from torch.utils.data import Dataset, DataLoader\n",
    "\n",
    "class IndoorDataset(Dataset):\n",
    "    \"\"\"Indoor Scene dataset.\"\"\"\n",
    "\n",
    "    def __init__(self, root_dir, preproc=None):\n",
    "        \"\"\"\n",
    "        Args:\n",
    "            root_dir (string): Directory with all the images.\n",
    "            transform (callable, optional): Optional transform to be applied\n",
    "                on a sample.\n",
    "        \"\"\"\n",
    "        assert Path(root_dir).is_dir()\n",
    "        self.impaths = []\n",
    "        for ext in ['jpg','png','jpeg']:\n",
    "            self.impaths.extend(Path(root_dir).glob('*.{}'.format(ext)))\n",
    "        self.preproc = preproc\n",
    "\n",
    "    def __len__(self):\n",
    "        return len(self.impaths)\n",
    "\n",
    "    def __getitem__(self, idx):\n",
    "        impath = self.impaths[idx]\n",
    "        X = cv2.imread(str(impath))\n",
    "        if self.preproc:\n",
    "            X = self.preproc(X)\n",
    "        y = '_'.join(impath.stem.split('_')[:2])\n",
    "\n",
    "        return X, y, str(impath)\n"
   ]
  },
  {
   "cell_type": "code",
   "execution_count": 41,
   "metadata": {},
   "outputs": [
    {
     "name": "stdout",
     "output_type": "stream",
     "text": [
      "Resnet50 Embedder initialised!\n"
     ]
    }
   ],
   "source": [
    "resmodel = Resnet_Embedder(depth=50)"
   ]
  },
  {
   "cell_type": "code",
   "execution_count": 42,
   "metadata": {},
   "outputs": [],
   "source": [
    "preproc = resmodel.preprocess\n",
    "# preproc = None\n",
    "indoorDataset = IndoorDataset('/media/dh/HDD1/roomid/dsta_indoor', preproc=preproc)"
   ]
  },
  {
   "cell_type": "code",
   "execution_count": 11,
   "metadata": {},
   "outputs": [],
   "source": [
    "# import matplotlib.pyplot as plt\n",
    "# X, y = indoorDataset[10]\n",
    "# imgplot = plt.imshow(X)\n",
    "# print(y)\n",
    "# plt.show()"
   ]
  },
  {
   "cell_type": "code",
   "execution_count": 43,
   "metadata": {},
   "outputs": [],
   "source": [
    "dataloader = DataLoader(indoorDataset, batch_size=4, shuffle=False, num_workers=4)"
   ]
  },
  {
   "cell_type": "code",
   "execution_count": 44,
   "metadata": {},
   "outputs": [],
   "source": [
    "embedding_pairs = []\n",
    "for i, Xyp in enumerate(dataloader):\n",
    "    X, y, ips = Xyp\n",
    "    embs = resmodel.forward(X)\n",
    "    for i, label in enumerate(y):\n",
    "        embedding_pairs.append((label, embs[i,].flatten(), ips[i]))"
   ]
  },
  {
   "cell_type": "code",
   "execution_count": 45,
   "metadata": {},
   "outputs": [
    {
     "data": {
      "text/plain": [
       "78"
      ]
     },
     "execution_count": 45,
     "metadata": {},
     "output_type": "execute_result"
    }
   ],
   "source": [
    "len(embedding_pairs)"
   ]
  },
  {
   "cell_type": "code",
   "execution_count": 46,
   "metadata": {},
   "outputs": [],
   "source": [
    "embedding_pairs = sorted(embedding_pairs, key=lambda x : x[0])"
   ]
  },
  {
   "cell_type": "code",
   "execution_count": 47,
   "metadata": {},
   "outputs": [],
   "source": [
    "labels_only = [pair[0] for pair in embedding_pairs]"
   ]
  },
  {
   "cell_type": "code",
   "execution_count": 48,
   "metadata": {},
   "outputs": [
    {
     "data": {
      "text/plain": [
       "{'Ak_1': 'A',\n",
       " 'Akash_1': 'B',\n",
       " 'Akash_2': 'C',\n",
       " 'Akash_3': 'D',\n",
       " 'Akash_4': 'E',\n",
       " 'Akash_5': 'F',\n",
       " 'Akash_6': 'G',\n",
       " 'AstridLew_1': 'H',\n",
       " 'AstridLew_2': 'I',\n",
       " 'AstridLew_3': 'J',\n",
       " 'AstridLew_4': 'K',\n",
       " 'Evan_1': 'L',\n",
       " 'Evan_2': 'M',\n",
       " 'Evan_3': 'N',\n",
       " 'JaneS_1': 'O',\n",
       " 'JaneS_2': 'P',\n",
       " 'LeslieLim_1': 'Q',\n",
       " 'LeslieLim_2': 'R',\n",
       " 'RenJie_1': 'S',\n",
       " 'RenJie_2': 'T',\n",
       " 'RenJie_3': 'U',\n",
       " 'RenJie_4': 'V',\n",
       " 'RenJie_5': 'W',\n",
       " 'RenJie_6': 'X'}"
      ]
     },
     "execution_count": 48,
     "metadata": {},
     "output_type": "execute_result"
    }
   ],
   "source": [
    "import string\n",
    "abc = string.ascii_uppercase\n",
    "label2abc = {}\n",
    "for i, label in enumerate(sorted(list(set(labels_only)))):\n",
    "    label2abc[label] = abc[i]\n",
    "label2abc"
   ]
  },
  {
   "cell_type": "code",
   "execution_count": 49,
   "metadata": {},
   "outputs": [],
   "source": [
    "new_labels = [label2abc[l] for l in labels_only]\n",
    "# new_labels"
   ]
  },
  {
   "cell_type": "code",
   "execution_count": 50,
   "metadata": {},
   "outputs": [],
   "source": [
    "embeddings_only = [pair[1] for pair in embedding_pairs]"
   ]
  },
  {
   "cell_type": "code",
   "execution_count": 51,
   "metadata": {},
   "outputs": [],
   "source": [
    "impaths_only = [pair[-1] for pair in embedding_pairs]"
   ]
  },
  {
   "cell_type": "code",
   "execution_count": 19,
   "metadata": {},
   "outputs": [],
   "source": [
    "from scipy.spatial import distance_matrix"
   ]
  },
  {
   "cell_type": "code",
   "execution_count": 52,
   "metadata": {},
   "outputs": [],
   "source": [
    "dist_mat = distance_matrix(embeddings_only, embeddings_only)"
   ]
  },
  {
   "cell_type": "code",
   "execution_count": 53,
   "metadata": {},
   "outputs": [
    {
     "data": {
      "text/plain": [
       "(78, 78)"
      ]
     },
     "execution_count": 53,
     "metadata": {},
     "output_type": "execute_result"
    }
   ],
   "source": [
    "dist_mat.shape"
   ]
  },
  {
   "cell_type": "code",
   "execution_count": 115,
   "metadata": {},
   "outputs": [],
   "source": [
    "import seaborn"
   ]
  },
  {
   "cell_type": "code",
   "execution_count": 116,
   "metadata": {},
   "outputs": [],
   "source": [
    "import matplotlib.pyplot as plt\n",
    "context = 'Resnet50-Imagenet'\n",
    "plt.figure(figsize = (30,30))\n",
    "# fig, ax = plt.subplots()\n",
    "# fig.set_figheight=300\n",
    "# fig.set_figwidth=300\n",
    "heat_map = seaborn.heatmap(dist_mat, xticklabels=new_labels, yticklabels=new_labels, cmap=seaborn.color_palette(\"Blues\"))\n",
    "heat_map.xaxis.set_ticks_position('top')\n",
    "heat_map.set_title('Distance Heatmap: {}'.format(context), fontsize=30)\n",
    "heat_map.figure.savefig('dist_mat_{}.png'.format(context))"
   ]
  },
  {
   "cell_type": "code",
   "execution_count": 54,
   "metadata": {},
   "outputs": [],
   "source": [
    "import numpy as np\n",
    "def eval_at_thresh(labels, dist_matrix, thresh=10):\n",
    "    threshed = np.where(dist_matrix < thresh, 0, 1)\n",
    "    fmrs = []\n",
    "    fnmrs = []\n",
    "    for i, q_label in enumerate(labels):\n",
    "        same_count = 0\n",
    "        diff_count = 0\n",
    "        fm_count = 0\n",
    "        fnm_count = 0\n",
    "        for j, this_label in enumerate(labels):\n",
    "            if i == j:\n",
    "                continue\n",
    "            pred_diff = threshed[i,j]\n",
    "            if q_label == this_label:\n",
    "                same_count += 1\n",
    "                if pred_diff:\n",
    "                    fnm_count += 1\n",
    "            else:\n",
    "                diff_count += 1\n",
    "                if not pred_diff:\n",
    "                    fm_count += 1\n",
    "        fmr = fm_count / diff_count\n",
    "        fnmr = fnm_count / same_count\n",
    "#         print(\"Query: {}\".format(q_label))\n",
    "#         print(\"\\t - False Match Rate: {}\".format(fmr))\n",
    "#         print(\"\\t - False Non-Match Rate: {}\".format(fnmr))\n",
    "        fmrs.append(fmr)\n",
    "        fnmrs.append(fnmr)\n",
    "    mean_fmr = np.mean(fmrs)\n",
    "    mean_fnmr = np.mean(fnmrs)\n",
    "#     print('Mean FMR: {}'.format(mean_fmr))\n",
    "#     print('Mean FNMR: {}'.format(mean_fnmr))\n",
    "    return mean_fmr, mean_fnmr, fmrs, fnmrs"
   ]
  },
  {
   "cell_type": "code",
   "execution_count": 55,
   "metadata": {},
   "outputs": [],
   "source": [
    "threshes = range(0, 30, 1)\n",
    "mean_fmrs = []\n",
    "mean_fnmrs = []\n",
    "for thresh in threshes:\n",
    "    mean_fmr, mean_fnmr, _, _ = eval_at_thresh(labels_only, dist_mat, thresh=thresh)\n",
    "    mean_fmrs.append(mean_fmr)\n",
    "    mean_fnmrs.append(mean_fnmr)\n",
    "#     print('THRESH: {}'.format(thresh))\n",
    "#     print('\\tMean FMR: {}'.format(mean_fmr))\n",
    "#     print('\\tMean FNMR: {}'.format(mean_fnmr))"
   ]
  },
  {
   "cell_type": "markdown",
   "metadata": {},
   "source": [
    "### Resnet 101"
   ]
  },
  {
   "cell_type": "code",
   "execution_count": 25,
   "metadata": {},
   "outputs": [
    {
     "name": "stdout",
     "output_type": "stream",
     "text": [
      "Resnet101 Embedder initialised!\n"
     ]
    }
   ],
   "source": [
    "resmodel = Resnet_Embedder(depth=101)"
   ]
  },
  {
   "cell_type": "code",
   "execution_count": 26,
   "metadata": {},
   "outputs": [],
   "source": [
    "rn101_embedding_pairs = []\n",
    "for i, Xy in enumerate(dataloader):\n",
    "    X, y = Xy\n",
    "    embs = resmodel.forward(X)\n",
    "    for i, label in enumerate(y):\n",
    "        rn101_embedding_pairs.append((label, embs[i,].flatten()))"
   ]
  },
  {
   "cell_type": "code",
   "execution_count": 27,
   "metadata": {},
   "outputs": [
    {
     "data": {
      "text/plain": [
       "78"
      ]
     },
     "execution_count": 27,
     "metadata": {},
     "output_type": "execute_result"
    }
   ],
   "source": [
    "rn101_embedding_pairs = sorted(rn101_embedding_pairs, key=lambda x : x[0])\n",
    "rn101_labels_only = [pair[0] for pair in rn101_embedding_pairs]\n",
    "rn101_new_labels = [label2abc[l] for l in rn101_labels_only]\n",
    "rn101_embeddings_only = [pair[1] for pair in rn101_embedding_pairs]\n",
    "len(rn101_new_labels)"
   ]
  },
  {
   "cell_type": "code",
   "execution_count": 28,
   "metadata": {},
   "outputs": [
    {
     "data": {
      "text/plain": [
       "(78, 78)"
      ]
     },
     "execution_count": 28,
     "metadata": {},
     "output_type": "execute_result"
    }
   ],
   "source": [
    "rn101_dist_mat = distance_matrix(rn101_embeddings_only, rn101_embeddings_only)\n",
    "rn101_dist_mat.shape"
   ]
  },
  {
   "cell_type": "code",
   "execution_count": 123,
   "metadata": {},
   "outputs": [],
   "source": [
    "import matplotlib.pyplot as plt\n",
    "context = 'Resnet101-Imagenet'\n",
    "plt.figure(figsize = (30,30))\n",
    "heat_map = seaborn.heatmap(rn101_dist_mat, xticklabels=new_labels, yticklabels=new_labels, cmap=seaborn.color_palette(\"Blues\"))\n",
    "heat_map.xaxis.set_ticks_position('top')\n",
    "heat_map.set_title('Distance Heatmap: {}'.format(context), fontsize=30)\n",
    "heat_map.figure.savefig('dist_mat_{}.png'.format(context))"
   ]
  },
  {
   "cell_type": "code",
   "execution_count": 29,
   "metadata": {},
   "outputs": [],
   "source": [
    "rn101_threshes = range(0, 30, 1)\n",
    "rn101_mean_fmrs = []\n",
    "rn101_mean_fnmrs = []\n",
    "for thresh in rn101_threshes:\n",
    "    mean_fmr, mean_fnmr, _, _ = eval_at_thresh(rn101_labels_only, rn101_dist_mat, thresh=thresh)\n",
    "    rn101_mean_fmrs.append(mean_fmr)\n",
    "    rn101_mean_fnmrs.append(mean_fnmr)"
   ]
  },
  {
   "cell_type": "markdown",
   "metadata": {},
   "source": [
    "### Resnet 18"
   ]
  },
  {
   "cell_type": "code",
   "execution_count": 30,
   "metadata": {},
   "outputs": [
    {
     "name": "stdout",
     "output_type": "stream",
     "text": [
      "Resnet18 Embedder initialised!\n"
     ]
    }
   ],
   "source": [
    "resmodel = Resnet_Embedder(depth=18)"
   ]
  },
  {
   "cell_type": "code",
   "execution_count": 31,
   "metadata": {},
   "outputs": [],
   "source": [
    "rn18_embedding_pairs = []\n",
    "for i, Xy in enumerate(dataloader):\n",
    "    X, y = Xy\n",
    "    embs = resmodel.forward(X)\n",
    "    for i, label in enumerate(y):\n",
    "        rn18_embedding_pairs.append((label, embs[i,].flatten()))"
   ]
  },
  {
   "cell_type": "code",
   "execution_count": 32,
   "metadata": {},
   "outputs": [
    {
     "data": {
      "text/plain": [
       "78"
      ]
     },
     "execution_count": 32,
     "metadata": {},
     "output_type": "execute_result"
    }
   ],
   "source": [
    "rn18_embedding_pairs = sorted(rn18_embedding_pairs, key=lambda x : x[0])\n",
    "rn18_labels_only = [pair[0] for pair in rn18_embedding_pairs]\n",
    "rn18_new_labels = [label2abc[l] for l in rn18_labels_only]\n",
    "rn18_embeddings_only = [pair[1] for pair in rn18_embedding_pairs]\n",
    "len(rn18_new_labels)"
   ]
  },
  {
   "cell_type": "code",
   "execution_count": 33,
   "metadata": {},
   "outputs": [
    {
     "data": {
      "text/plain": [
       "(78, 78)"
      ]
     },
     "execution_count": 33,
     "metadata": {},
     "output_type": "execute_result"
    }
   ],
   "source": [
    "rn18_dist_mat = distance_matrix(rn18_embeddings_only, rn18_embeddings_only)\n",
    "rn18_dist_mat.shape"
   ]
  },
  {
   "cell_type": "code",
   "execution_count": 131,
   "metadata": {},
   "outputs": [],
   "source": [
    "import matplotlib.pyplot as plt\n",
    "context = 'Resnet18-Imagenet'\n",
    "plt.figure(figsize = (30,30))\n",
    "heat_map = seaborn.heatmap(rn18_dist_mat, xticklabels=new_labels, yticklabels=new_labels, cmap=seaborn.color_palette(\"Blues\"))\n",
    "heat_map.xaxis.set_ticks_position('top')\n",
    "heat_map.set_title('Distance Heatmap: {}'.format(context), fontsize=30)\n",
    "heat_map.figure.savefig('dist_mat_{}.png'.format(context))"
   ]
  },
  {
   "cell_type": "code",
   "execution_count": 34,
   "metadata": {},
   "outputs": [],
   "source": [
    "rn18_threshes = range(0, 30, 1)\n",
    "rn18_mean_fmrs = []\n",
    "rn18_mean_fnmrs = []\n",
    "for thresh in rn18_threshes:\n",
    "    mean_fmr, mean_fnmr, _, _ = eval_at_thresh(rn18_labels_only, rn18_dist_mat, thresh=thresh)\n",
    "    rn18_mean_fmrs.append(mean_fmr)\n",
    "    rn18_mean_fnmrs.append(mean_fnmr)"
   ]
  },
  {
   "cell_type": "markdown",
   "metadata": {},
   "source": [
    "## For TSNE Viz"
   ]
  },
  {
   "cell_type": "code",
   "execution_count": 39,
   "metadata": {},
   "outputs": [],
   "source": [
    "fpath = '/media/dh/HDD1/roomid/embeddings/resnet50_embs.csv'\n",
    "np.savetxt(fpath, np.array(embeddings_only) )"
   ]
  },
  {
   "cell_type": "code",
   "execution_count": 60,
   "metadata": {},
   "outputs": [],
   "source": [
    "tsne_label_path = '/media/dh/HDD1/roomid/tsne/labels_img.txt'\n",
    "with open(tsne_label_path,'w') as f:\n",
    "    f.write('label\\timage\\n')\n",
    "    for label, impath in zip(labels_only, impaths_only): \n",
    "        f.write('{}\\t{}\\n'.format(label, Path(impath).name))"
   ]
  },
  {
   "cell_type": "markdown",
   "metadata": {},
   "source": [
    "## Person REID"
   ]
  },
  {
   "cell_type": "code",
   "execution_count": 87,
   "metadata": {},
   "outputs": [],
   "source": [
    "import torch\n",
    "import torchvision.transforms as transforms\n",
    "import torchvision.models as models\n",
    "import torchvision.transforms.functional as functional\n",
    "import torch.nn as nn\n",
    "from torch.autograd import Variable\n",
    "from PIL import Image\n",
    "import numpy as np\n",
    "import glob, os\n",
    "import argparse\n",
    "import types\n",
    "import time \n",
    "import pickle\n",
    "import cv2\n",
    "# from scipy.misc import imresize\n",
    "\n",
    "class REID_embed(object):\n",
    "    def __init__(self):\n",
    "        print('Initialising embedder..')\n",
    "        self.model = self.TripletNetBasic()\n",
    "#         cur_dir = os.path.dirname(os.path.abspath(__file__))\n",
    "        cur_dir = '.'\n",
    "        weights = os.path.join(cur_dir, 'bestmodel_checkpoint_py3.pth.tar')   #pre-trained model file\n",
    "        checkpoint = torch.load(weights, map_location=lambda storage, location: storage.cuda(0)) #loading parameters of pre-trained model\n",
    "        # checkpoint = torch.load(weights, map_location=lambda storage, location: storage) #loading parameters of pre-trained model\n",
    "        self.model.load_state_dict(checkpoint['state_dict'])\n",
    "        self.model.eval() #Switch the model to evaluation mode. Very important!!! Must do before use\n",
    "        self.model.cuda() #Use GPU\n",
    "\n",
    "    #-------------------neural network definition-----------------------------\n",
    "    #---------Rose Re-id backend API adopts Resnet50 as backbone--------------\n",
    "    class ResNetBasic(nn.Module):\n",
    "        def __init__(self):\n",
    "            super(REID_embed.ResNetBasic, self).__init__()\n",
    "            self.resnet = models.resnet50()\n",
    "            # print self.resnet._modules.keys()\n",
    "            def resnet_forward(resnet,x):\n",
    "                x = resnet.conv1(x)\n",
    "                x = resnet.bn1(x)\n",
    "                x = resnet.relu(x)\n",
    "                x = resnet.maxpool(x)\n",
    "                x = resnet.layer1(x)\n",
    "                x = resnet.layer2(x)\n",
    "                x = resnet.layer3(x)\n",
    "                x = resnet.layer4(x)\n",
    "                return x\n",
    "            self.resnet.avgpool = None\n",
    "            self.resnet.fc = None\n",
    "            self.resnet.forward = types.MethodType(resnet_forward, self.resnet)\n",
    "            self.avgp1 = nn.AvgPool2d((8,4))\n",
    "            self.fc1 = nn.Linear(2048, 1024)\n",
    "            self.bn1 = nn.BatchNorm1d(1024)\n",
    "            self.relu1 = nn.ReLU()\n",
    "            self.fc2 = nn.Linear(1024,128)\n",
    "\n",
    "        def forward(self, x):\n",
    "            x = self.resnet(x)\n",
    "            x = self.avgp1(x).view(-1,2048)\n",
    "            x = self.fc1(x)\n",
    "            x = self.bn1(x)\n",
    "            x = self.relu1(x)\n",
    "            x = self.fc2(x)\n",
    "            return x\n",
    "\n",
    "    #-------------------Inference network definition---------------------------\n",
    "    class TripletNetBasic(nn.Module):\n",
    "        def __init__(self):\n",
    "            super(REID_embed.TripletNetBasic, self).__init__()\n",
    "            self.feat_extraction = REID_embed.ResNetBasic()\n",
    "            self.fc = nn.Linear(128, 751)\n",
    "            self.matching = nn.PairwiseDistance(2)\n",
    "\n",
    "        def forward(self, a):\n",
    "            a1 = self.feat_extraction(a)        \n",
    "            return a1 \n",
    "\n",
    "    def forward(self, batch_tensor):\n",
    "        feats = self.model.forward(batch_tensor.cuda())\n",
    "        return feats.cpu().data.numpy()"
   ]
  },
  {
   "cell_type": "code",
   "execution_count": 88,
   "metadata": {},
   "outputs": [
    {
     "name": "stdout",
     "output_type": "stream",
     "text": [
      "Initialising embedder..\n"
     ]
    }
   ],
   "source": [
    "reid_embedder = REID_embed()"
   ]
  },
  {
   "cell_type": "code",
   "execution_count": 98,
   "metadata": {},
   "outputs": [],
   "source": [
    "def reid_preprocess(np_image_bgr):\n",
    "    '''\n",
    "    Preprocessing for embedder network: Flips BGR to RGB, resize, convert to torch tensor, normalise with imagenet mean and variance, reshape. Note: input image yet to be loaded to GPU through tensor.cuda()\n",
    "\n",
    "    Parameters\n",
    "    ----------\n",
    "    np_image_bgr : ndarray\n",
    "        (H x W x C) in BGR\n",
    "\n",
    "    Returns\n",
    "    -------\n",
    "    Torch Tensor\n",
    "\n",
    "    '''\n",
    "    np_image_rgb = np_image_bgr[...,::-1]\n",
    "    np_image_rgb = cv2.resize(np_image_rgb, (128, 256))\n",
    "    input_image = transforms.ToTensor()(np_image_rgb)\n",
    "    input_image = normalise(input_image) \n",
    "    return input_image\n",
    "\n",
    "reid_indoorDataset = IndoorDataset('/media/dh/HDD1/roomid/dsta_indoor', preproc=reid_preprocess)\n",
    "reid_dataloader = DataLoader(reid_indoorDataset, batch_size=4, shuffle=False, num_workers=4)"
   ]
  },
  {
   "cell_type": "code",
   "execution_count": 106,
   "metadata": {
    "scrolled": false
   },
   "outputs": [],
   "source": [
    "reid_rn50_embedding_pairs = []\n",
    "for i, Xyp in enumerate(dataloader):\n",
    "    X, y, ips = Xyp\n",
    "    embs = reid_embedder.forward(X)\n",
    "#     import pdb; pdb.set_trace()\n",
    "    for i, label in enumerate(y):\n",
    "        reid_rn50_embedding_pairs.append((label, embs[i,].flatten(), ips[i]))"
   ]
  },
  {
   "cell_type": "code",
   "execution_count": 107,
   "metadata": {},
   "outputs": [
    {
     "data": {
      "text/plain": [
       "78"
      ]
     },
     "execution_count": 107,
     "metadata": {},
     "output_type": "execute_result"
    }
   ],
   "source": [
    "len(reid_rn50_embedding_pairs)"
   ]
  },
  {
   "cell_type": "code",
   "execution_count": 108,
   "metadata": {},
   "outputs": [
    {
     "data": {
      "text/plain": [
       "78"
      ]
     },
     "execution_count": 108,
     "metadata": {},
     "output_type": "execute_result"
    }
   ],
   "source": [
    "reid_rn50_embedding_pairs = sorted(reid_rn50_embedding_pairs, key=lambda x : x[0])\n",
    "reid_rn50_labels_only = [pair[0] for pair in reid_rn50_embedding_pairs]\n",
    "reid_rn50_new_labels = [label2abc[l] for l in reid_rn50_labels_only]\n",
    "reid_rn50_embeddings_only = [pair[1] for pair in reid_rn50_embedding_pairs]\n",
    "len(reid_rn50_new_labels)"
   ]
  },
  {
   "cell_type": "code",
   "execution_count": 109,
   "metadata": {},
   "outputs": [
    {
     "data": {
      "text/plain": [
       "(78, 78)"
      ]
     },
     "execution_count": 109,
     "metadata": {},
     "output_type": "execute_result"
    }
   ],
   "source": [
    "reid_rn50_dist_mat = distance_matrix(reid_rn50_embeddings_only, reid_rn50_embeddings_only)\n",
    "reid_rn50_dist_mat.shape"
   ]
  },
  {
   "cell_type": "code",
   "execution_count": 110,
   "metadata": {},
   "outputs": [
    {
     "data": {
      "image/png": "[encoded data removed]",
      "text/plain": [
       "<Figure size 2160x2160 with 2 Axes>"
      ]
     },
     "metadata": {},
     "output_type": "display_data"
    }
   ],
   "source": [
    "import seaborn\n",
    "import matplotlib.pyplot as plt\n",
    "context = 'Reid_Resnet50'\n",
    "plt.figure(figsize = (30,30))\n",
    "heat_map = seaborn.heatmap(rn18_dist_mat, xticklabels=new_labels, yticklabels=new_labels, cmap=seaborn.color_palette(\"Blues\"))\n",
    "heat_map.xaxis.set_ticks_position('top')\n",
    "heat_map.set_title('Distance Heatmap: {}'.format(context), fontsize=30)\n",
    "heat_map.figure.savefig('dist_mat_{}.png'.format(context))"
   ]
  },
  {
   "cell_type": "code",
   "execution_count": 111,
   "metadata": {},
   "outputs": [],
   "source": [
    "reid_rn50_mean_fmrs_rectpreproc = reid_rn50_mean_fmrs\n",
    "reid_rn50_mean_fnmrs_rectpreproc = reid_rn50_mean_fnmrs"
   ]
  },
  {
   "cell_type": "code",
   "execution_count": 112,
   "metadata": {},
   "outputs": [],
   "source": [
    "reid_rn50_threshes = range(0, 30, 1)\n",
    "reid_rn50_mean_fmrs = []\n",
    "reid_rn50_mean_fnmrs = []\n",
    "for thresh in reid_rn50_threshes:\n",
    "    mean_fmr, mean_fnmr, _, _ = eval_at_thresh(reid_rn50_labels_only, reid_rn50_dist_mat, thresh=thresh)\n",
    "    reid_rn50_mean_fmrs.append(mean_fmr)\n",
    "    reid_rn50_mean_fnmrs.append(mean_fnmr)"
   ]
  },
  {
   "cell_type": "code",
   "execution_count": 113,
   "metadata": {
    "scrolled": false
   },
   "outputs": [
    {
     "data": {
      "application/vnd.plotly.v1+json": {
       "config": {
        "plotlyServerURL": "https://plot.ly"
       },
       "data": [
        {
         "name": "Resnet18-Imagenet",
         "type": "scatter",
         "x": [
          1,
          1,
          1,
          1,
          1,
          1,
          1,
          1,
          0.9777777777777777,
          0.9777777777777777,
          0.9282051282051282,
          0.8431623931623932,
          0.6055555555555555,
          0.4735042735042734,
          0.30299145299145297,
          0.20940170940170938,
          0.13461538461538464,
          0.0641025641025641,
          0.02564102564102564,
          0,
          0,
          0,
          0,
          0,
          0,
          0,
          0,
          0,
          0,
          0
         ],
         "y": [
          0,
          0,
          0,
          0,
          0,
          0,
          0,
          0,
          0,
          0,
          0,
          0,
          0,
          0.00033738191632928474,
          0.002070896807738913,
          0.0055283648686676795,
          0.015209918614749185,
          0.03738618339375369,
          0.07404473590666814,
          0.14114307474797744,
          0.25417143697965616,
          0.39810941216853246,
          0.5599749302849518,
          0.6967053335294143,
          0.8061344508226268,
          0.902023576180029,
          0.9595301911361752,
          0.9835521555330493,
          0.9924543724579774,
          0.9979437939964256
         ]
        },
        {
         "name": "Resnet50-Imagenet",
         "type": "scatter",
         "x": [
          1,
          1,
          1,
          1,
          1,
          1,
          1,
          1,
          0.982905982905983,
          0.9418803418803419,
          0.8542735042735041,
          0.7799145299145298,
          0.5042735042735043,
          0.3923076923076923,
          0.2551282051282051,
          0.1252136752136752,
          0.0547008547008547,
          0.03931623931623932,
          0.03418803418803419,
          0,
          0,
          0,
          0,
          0,
          0,
          0,
          0,
          0,
          0,
          0
         ],
         "y": [
          0,
          0,
          0,
          0,
          0,
          0,
          0,
          0,
          0,
          0,
          0,
          0,
          0,
          0.002079630098736083,
          0.004147768477256581,
          0.01003529040659538,
          0.01938977355704104,
          0.038751059722581,
          0.08231102254714366,
          0.1689870426135747,
          0.2999356719039488,
          0.4710741864653184,
          0.6305707533555408,
          0.7721758675651971,
          0.8787929030466882,
          0.9454188247645349,
          0.9800093007987747,
          0.9920673608831502,
          0.9986158628263891,
          1
         ]
        },
        {
         "name": "Resnet101-Imagenet",
         "type": "scatter",
         "x": [
          1,
          1,
          1,
          1,
          1,
          1,
          1,
          0.9914529914529914,
          0.9914529914529914,
          0.9764957264957266,
          0.9269230769230768,
          0.8388888888888889,
          0.7521367521367521,
          0.5457264957264959,
          0.32649572649572645,
          0.2183760683760683,
          0.16410256410256413,
          0.10384615384615384,
          0.06666666666666665,
          0.03931623931623932,
          0.03931623931623932,
          0.03418803418803419,
          0.02564102564102564,
          0.02564102564102564,
          0,
          0,
          0,
          0,
          0,
          0
         ],
         "y": [
          0,
          0,
          0,
          0,
          0,
          0,
          0,
          0,
          0,
          0,
          0,
          0,
          0,
          0.0003488736365448694,
          0.0020932418192692167,
          0.003137489438859302,
          0.0059123720803605445,
          0.014215492876271534,
          0.031563551516687785,
          0.06234406804341916,
          0.11402756688805714,
          0.19008341559350933,
          0.27860741849386406,
          0.39776959645020205,
          0.5289631673157267,
          0.6373387210625855,
          0.7348156363062633,
          0.8197528869338532,
          0.8942503635852587,
          0.9460595170346432
         ]
        },
        {
         "name": "Reid-Resnet50_rectpreproc",
         "type": "scatter",
         "x": [
          1,
          1,
          0.741025641025641,
          0.3876068376068376,
          0.1777777777777778,
          0.044444444444444446,
          0.005128205128205128,
          0,
          0,
          0,
          0,
          0,
          0,
          0,
          0,
          0,
          0,
          0,
          0,
          0,
          0,
          0,
          0,
          0,
          0,
          0,
          0,
          0,
          0,
          0
         ],
         "y": [
          0,
          0,
          0.0003488736365448694,
          0.06042598030341361,
          0.284076986558962,
          0.6315080728779358,
          0.8874757086130552,
          0.9796875850949391,
          0.9976057130004498,
          0.9996532463637726,
          1,
          1,
          1,
          1,
          1,
          1,
          1,
          1,
          1,
          1,
          1,
          1,
          1,
          1,
          1,
          1,
          1,
          1,
          1,
          1
         ]
        },
        {
         "name": "Reid-Resnet50",
         "type": "scatter",
         "x": [
          1,
          0.9863247863247864,
          0.7824786324786326,
          0.44145299145299133,
          0.13376068376068379,
          0.05726495726495727,
          0.02564102564102564,
          0.01282051282051282,
          0.01282051282051282,
          0,
          0,
          0,
          0,
          0,
          0,
          0,
          0,
          0,
          0,
          0,
          0,
          0,
          0,
          0,
          0,
          0,
          0,
          0,
          0,
          0
         ],
         "y": [
          0,
          0,
          0.0013770703208338393,
          0.03996853503162084,
          0.25683661963222165,
          0.6440334847076016,
          0.8728915774517794,
          0.951896236400562,
          0.9807823994756222,
          0.9952041287585627,
          1,
          1,
          1,
          1,
          1,
          1,
          1,
          1,
          1,
          1,
          1,
          1,
          1,
          1,
          1,
          1,
          1,
          1,
          1,
          1
         ]
        },
        {
         "marker": {
          "color": "rgba(0, 0, 0, 0.75)",
          "line": {
           "width": 1
          },
          "size": 10
         },
         "mode": "lines",
         "name": "Perfect",
         "type": "scatter",
         "x": [
          0,
          0,
          1
         ],
         "y": [
          1,
          0,
          0
         ]
        }
       ],
       "layout": {
        "font": {
         "color": "#7f7f7f",
         "family": "Courier New, monospace",
         "size": 12
        },
        "template": {
         "data": {
          "bar": [
           {
            "error_x": {
             "color": "#2a3f5f"
            },
            "error_y": {
             "color": "#2a3f5f"
            },
            "marker": {
             "line": {
              "color": "#E5ECF6",
              "width": 0.5
             }
            },
            "type": "bar"
           }
          ],
          "barpolar": [
           {
            "marker": {
             "line": {
              "color": "#E5ECF6",
              "width": 0.5
             }
            },
            "type": "barpolar"
           }
          ],
          "carpet": [
           {
            "aaxis": {
             "endlinecolor": "#2a3f5f",
             "gridcolor": "white",
             "linecolor": "white",
             "minorgridcolor": "white",
             "startlinecolor": "#2a3f5f"
            },
            "baxis": {
             "endlinecolor": "#2a3f5f",
             "gridcolor": "white",
             "linecolor": "white",
             "minorgridcolor": "white",
             "startlinecolor": "#2a3f5f"
            },
            "type": "carpet"
           }
          ],
          "choropleth": [
           {
            "colorbar": {
             "outlinewidth": 0,
             "ticks": ""
            },
            "type": "choropleth"
           }
          ],
          "contour": [
           {
            "colorbar": {
             "outlinewidth": 0,
             "ticks": ""
            },
            "colorscale": [
             [
              0,
              "#0d0887"
             ],
             [
              0.1111111111111111,
              "#46039f"
             ],
             [
              0.2222222222222222,
              "#7201a8"
             ],
             [
              0.3333333333333333,
              "#9c179e"
             ],
             [
              0.4444444444444444,
              "#bd3786"
             ],
             [
              0.5555555555555556,
              "#d8576b"
             ],
             [
              0.6666666666666666,
              "#ed7953"
             ],
             [
              0.7777777777777778,
              "#fb9f3a"
             ],
             [
              0.8888888888888888,
              "#fdca26"
             ],
             [
              1,
              "#f0f921"
             ]
            ],
            "type": "contour"
           }
          ],
          "contourcarpet": [
           {
            "colorbar": {
             "outlinewidth": 0,
             "ticks": ""
            },
            "type": "contourcarpet"
           }
          ],
          "heatmap": [
           {
            "colorbar": {
             "outlinewidth": 0,
             "ticks": ""
            },
            "colorscale": [
             [
              0,
              "#0d0887"
             ],
             [
              0.1111111111111111,
              "#46039f"
             ],
             [
              0.2222222222222222,
              "#7201a8"
             ],
             [
              0.3333333333333333,
              "#9c179e"
             ],
             [
              0.4444444444444444,
              "#bd3786"
             ],
             [
              0.5555555555555556,
              "#d8576b"
             ],
             [
              0.6666666666666666,
              "#ed7953"
             ],
             [
              0.7777777777777778,
              "#fb9f3a"
             ],
             [
              0.8888888888888888,
              "#fdca26"
             ],
             [
              1,
              "#f0f921"
             ]
            ],
            "type": "heatmap"
           }
          ],
          "heatmapgl": [
           {
            "colorbar": {
             "outlinewidth": 0,
             "ticks": ""
            },
            "colorscale": [
             [
              0,
              "#0d0887"
             ],
             [
              0.1111111111111111,
              "#46039f"
             ],
             [
              0.2222222222222222,
              "#7201a8"
             ],
             [
              0.3333333333333333,
              "#9c179e"
             ],
             [
              0.4444444444444444,
              "#bd3786"
             ],
             [
              0.5555555555555556,
              "#d8576b"
             ],
             [
              0.6666666666666666,
              "#ed7953"
             ],
             [
              0.7777777777777778,
              "#fb9f3a"
             ],
             [
              0.8888888888888888,
              "#fdca26"
             ],
             [
              1,
              "#f0f921"
             ]
            ],
            "type": "heatmapgl"
           }
          ],
          "histogram": [
           {
            "marker": {
             "colorbar": {
              "outlinewidth": 0,
              "ticks": ""
             }
            },
            "type": "histogram"
           }
          ],
          "histogram2d": [
           {
            "colorbar": {
             "outlinewidth": 0,
             "ticks": ""
            },
            "colorscale": [
             [
              0,
              "#0d0887"
             ],
             [
              0.1111111111111111,
              "#46039f"
             ],
             [
              0.2222222222222222,
              "#7201a8"
             ],
             [
              0.3333333333333333,
              "#9c179e"
             ],
             [
              0.4444444444444444,
              "#bd3786"
             ],
             [
              0.5555555555555556,
              "#d8576b"
             ],
             [
              0.6666666666666666,
              "#ed7953"
             ],
             [
              0.7777777777777778,
              "#fb9f3a"
             ],
             [
              0.8888888888888888,
              "#fdca26"
             ],
             [
              1,
              "#f0f921"
             ]
            ],
            "type": "histogram2d"
           }
          ],
          "histogram2dcontour": [
           {
            "colorbar": {
             "outlinewidth": 0,
             "ticks": ""
            },
            "colorscale": [
             [
              0,
              "#0d0887"
             ],
             [
              0.1111111111111111,
              "#46039f"
             ],
             [
              0.2222222222222222,
              "#7201a8"
             ],
             [
              0.3333333333333333,
              "#9c179e"
             ],
             [
              0.4444444444444444,
              "#bd3786"
             ],
             [
              0.5555555555555556,
              "#d8576b"
             ],
             [
              0.6666666666666666,
              "#ed7953"
             ],
             [
              0.7777777777777778,
              "#fb9f3a"
             ],
             [
              0.8888888888888888,
              "#fdca26"
             ],
             [
              1,
              "#f0f921"
             ]
            ],
            "type": "histogram2dcontour"
           }
          ],
          "mesh3d": [
           {
            "colorbar": {
             "outlinewidth": 0,
             "ticks": ""
            },
            "type": "mesh3d"
           }
          ],
          "parcoords": [
           {
            "line": {
             "colorbar": {
              "outlinewidth": 0,
              "ticks": ""
             }
            },
            "type": "parcoords"
           }
          ],
          "pie": [
           {
            "automargin": true,
            "type": "pie"
           }
          ],
          "scatter": [
           {
            "marker": {
             "colorbar": {
              "outlinewidth": 0,
              "ticks": ""
             }
            },
            "type": "scatter"
           }
          ],
          "scatter3d": [
           {
            "line": {
             "colorbar": {
              "outlinewidth": 0,
              "ticks": ""
             }
            },
            "marker": {
             "colorbar": {
              "outlinewidth": 0,
              "ticks": ""
             }
            },
            "type": "scatter3d"
           }
          ],
          "scattercarpet": [
           {
            "marker": {
             "colorbar": {
              "outlinewidth": 0,
              "ticks": ""
             }
            },
            "type": "scattercarpet"
           }
          ],
          "scattergeo": [
           {
            "marker": {
             "colorbar": {
              "outlinewidth": 0,
              "ticks": ""
             }
            },
            "type": "scattergeo"
           }
          ],
          "scattergl": [
           {
            "marker": {
             "colorbar": {
              "outlinewidth": 0,
              "ticks": ""
             }
            },
            "type": "scattergl"
           }
          ],
          "scattermapbox": [
           {
            "marker": {
             "colorbar": {
              "outlinewidth": 0,
              "ticks": ""
             }
            },
            "type": "scattermapbox"
           }
          ],
          "scatterpolar": [
           {
            "marker": {
             "colorbar": {
              "outlinewidth": 0,
              "ticks": ""
             }
            },
            "type": "scatterpolar"
           }
          ],
          "scatterpolargl": [
           {
            "marker": {
             "colorbar": {
              "outlinewidth": 0,
              "ticks": ""
             }
            },
            "type": "scatterpolargl"
           }
          ],
          "scatterternary": [
           {
            "marker": {
             "colorbar": {
              "outlinewidth": 0,
              "ticks": ""
             }
            },
            "type": "scatterternary"
           }
          ],
          "surface": [
           {
            "colorbar": {
             "outlinewidth": 0,
             "ticks": ""
            },
            "colorscale": [
             [
              0,
              "#0d0887"
             ],
             [
              0.1111111111111111,
              "#46039f"
             ],
             [
              0.2222222222222222,
              "#7201a8"
             ],
             [
              0.3333333333333333,
              "#9c179e"
             ],
             [
              0.4444444444444444,
              "#bd3786"
             ],
             [
              0.5555555555555556,
              "#d8576b"
             ],
             [
              0.6666666666666666,
              "#ed7953"
             ],
             [
              0.7777777777777778,
              "#fb9f3a"
             ],
             [
              0.8888888888888888,
              "#fdca26"
             ],
             [
              1,
              "#f0f921"
             ]
            ],
            "type": "surface"
           }
          ],
          "table": [
           {
            "cells": {
             "fill": {
              "color": "#EBF0F8"
             },
             "line": {
              "color": "white"
             }
            },
            "header": {
             "fill": {
              "color": "#C8D4E3"
             },
             "line": {
              "color": "white"
             }
            },
            "type": "table"
           }
          ]
         },
         "layout": {
          "annotationdefaults": {
           "arrowcolor": "#2a3f5f",
           "arrowhead": 0,
           "arrowwidth": 1
          },
          "coloraxis": {
           "colorbar": {
            "outlinewidth": 0,
            "ticks": ""
           }
          },
          "colorscale": {
           "diverging": [
            [
             0,
             "#8e0152"
            ],
            [
             0.1,
             "#c51b7d"
            ],
            [
             0.2,
             "#de77ae"
            ],
            [
             0.3,
             "#f1b6da"
            ],
            [
             0.4,
             "#fde0ef"
            ],
            [
             0.5,
             "#f7f7f7"
            ],
            [
             0.6,
             "#e6f5d0"
            ],
            [
             0.7,
             "#b8e186"
            ],
            [
             0.8,
             "#7fbc41"
            ],
            [
             0.9,
             "#4d9221"
            ],
            [
             1,
             "#276419"
            ]
           ],
           "sequential": [
            [
             0,
             "#0d0887"
            ],
            [
             0.1111111111111111,
             "#46039f"
            ],
            [
             0.2222222222222222,
             "#7201a8"
            ],
            [
             0.3333333333333333,
             "#9c179e"
            ],
            [
             0.4444444444444444,
             "#bd3786"
            ],
            [
             0.5555555555555556,
             "#d8576b"
            ],
            [
             0.6666666666666666,
             "#ed7953"
            ],
            [
             0.7777777777777778,
             "#fb9f3a"
            ],
            [
             0.8888888888888888,
             "#fdca26"
            ],
            [
             1,
             "#f0f921"
            ]
           ],
           "sequentialminus": [
            [
             0,
             "#0d0887"
            ],
            [
             0.1111111111111111,
             "#46039f"
            ],
            [
             0.2222222222222222,
             "#7201a8"
            ],
            [
             0.3333333333333333,
             "#9c179e"
            ],
            [
             0.4444444444444444,
             "#bd3786"
            ],
            [
             0.5555555555555556,
             "#d8576b"
            ],
            [
             0.6666666666666666,
             "#ed7953"
            ],
            [
             0.7777777777777778,
             "#fb9f3a"
            ],
            [
             0.8888888888888888,
             "#fdca26"
            ],
            [
             1,
             "#f0f921"
            ]
           ]
          },
          "colorway": [
           "#636efa",
           "#EF553B",
           "#00cc96",
           "#ab63fa",
           "#FFA15A",
           "#19d3f3",
           "#FF6692",
           "#B6E880",
           "#FF97FF",
           "#FECB52"
          ],
          "font": {
           "color": "#2a3f5f"
          },
          "geo": {
           "bgcolor": "white",
           "lakecolor": "white",
           "landcolor": "#E5ECF6",
           "showlakes": true,
           "showland": true,
           "subunitcolor": "white"
          },
          "hoverlabel": {
           "align": "left"
          },
          "hovermode": "closest",
          "mapbox": {
           "style": "light"
          },
          "paper_bgcolor": "white",
          "plot_bgcolor": "#E5ECF6",
          "polar": {
           "angularaxis": {
            "gridcolor": "white",
            "linecolor": "white",
            "ticks": ""
           },
           "bgcolor": "#E5ECF6",
           "radialaxis": {
            "gridcolor": "white",
            "linecolor": "white",
            "ticks": ""
           }
          },
          "scene": {
           "xaxis": {
            "backgroundcolor": "#E5ECF6",
            "gridcolor": "white",
            "gridwidth": 2,
            "linecolor": "white",
            "showbackground": true,
            "ticks": "",
            "zerolinecolor": "white"
           },
           "yaxis": {
            "backgroundcolor": "#E5ECF6",
            "gridcolor": "white",
            "gridwidth": 2,
            "linecolor": "white",
            "showbackground": true,
            "ticks": "",
            "zerolinecolor": "white"
           },
           "zaxis": {
            "backgroundcolor": "#E5ECF6",
            "gridcolor": "white",
            "gridwidth": 2,
            "linecolor": "white",
            "showbackground": true,
            "ticks": "",
            "zerolinecolor": "white"
           }
          },
          "shapedefaults": {
           "line": {
            "color": "#2a3f5f"
           }
          },
          "ternary": {
           "aaxis": {
            "gridcolor": "white",
            "linecolor": "white",
            "ticks": ""
           },
           "baxis": {
            "gridcolor": "white",
            "linecolor": "white",
            "ticks": ""
           },
           "bgcolor": "#E5ECF6",
           "caxis": {
            "gridcolor": "white",
            "linecolor": "white",
            "ticks": ""
           }
          },
          "title": {
           "x": 0.05
          },
          "xaxis": {
           "automargin": true,
           "gridcolor": "white",
           "linecolor": "white",
           "ticks": "",
           "title": {
            "standoff": 15
           },
           "zerolinecolor": "white",
           "zerolinewidth": 2
          },
          "yaxis": {
           "automargin": true,
           "gridcolor": "white",
           "linecolor": "white",
           "ticks": "",
           "title": {
            "standoff": 15
           },
           "zerolinecolor": "white",
           "zerolinewidth": 2
          }
         }
        },
        "title": {
         "text": "Indoor Scene Matching on 78 indoor scenes",
         "x": 0.5,
         "xanchor": "center"
        },
        "xaxis": {
         "title": {
          "text": "False Non-Match Rate"
         }
        },
        "yaxis": {
         "title": {
          "text": "False Match Rate"
         }
        }
       }
      },
      "text/html": [
       "<div>\n",
       "        \n",
       "        \n",
       "            <div id=\"a4b26f1f-82b1-491c-aba4-8b0c0e095c0a\" class=\"plotly-graph-div\" style=\"height:525px; width:100%;\"></div>\n",
       "            <script type=\"text/javascript\">\n",
       "                require([\"plotly\"], function(Plotly) {\n",
       "                    window.PLOTLYENV=window.PLOTLYENV || {};\n",
       "                    \n",
       "                if (document.getElementById(\"a4b26f1f-82b1-491c-aba4-8b0c0e095c0a\")) {\n",
       "                    Plotly.newPlot(\n",
       "                        'a4b26f1f-82b1-491c-aba4-8b0c0e095c0a',\n",
       "                        [{\"name\": \"Resnet18-Imagenet\", \"type\": \"scatter\", \"x\": [1.0, 1.0, 1.0, 1.0, 1.0, 1.0, 1.0, 1.0, 0.9777777777777777, 0.9777777777777777, 0.9282051282051282, 0.8431623931623932, 0.6055555555555555, 0.4735042735042734, 0.30299145299145297, 0.20940170940170938, 0.13461538461538464, 0.0641025641025641, 0.02564102564102564, 0.0, 0.0, 0.0, 0.0, 0.0, 0.0, 0.0, 0.0, 0.0, 0.0, 0.0], \"y\": [0.0, 0.0, 0.0, 0.0, 0.0, 0.0, 0.0, 0.0, 0.0, 0.0, 0.0, 0.0, 0.0, 0.00033738191632928474, 0.002070896807738913, 0.0055283648686676795, 0.015209918614749185, 0.03738618339375369, 0.07404473590666814, 0.14114307474797744, 0.25417143697965616, 0.39810941216853246, 0.5599749302849518, 0.6967053335294143, 0.8061344508226268, 0.902023576180029, 0.9595301911361752, 0.9835521555330493, 0.9924543724579774, 0.9979437939964256]}, {\"name\": \"Resnet50-Imagenet\", \"type\": \"scatter\", \"x\": [1.0, 1.0, 1.0, 1.0, 1.0, 1.0, 1.0, 1.0, 0.982905982905983, 0.9418803418803419, 0.8542735042735041, 0.7799145299145298, 0.5042735042735043, 0.3923076923076923, 0.2551282051282051, 0.1252136752136752, 0.0547008547008547, 0.03931623931623932, 0.03418803418803419, 0.0, 0.0, 0.0, 0.0, 0.0, 0.0, 0.0, 0.0, 0.0, 0.0, 0.0], \"y\": [0.0, 0.0, 0.0, 0.0, 0.0, 0.0, 0.0, 0.0, 0.0, 0.0, 0.0, 0.0, 0.0, 0.002079630098736083, 0.004147768477256581, 0.01003529040659538, 0.01938977355704104, 0.038751059722581, 0.08231102254714366, 0.1689870426135747, 0.2999356719039488, 0.4710741864653184, 0.6305707533555408, 0.7721758675651971, 0.8787929030466882, 0.9454188247645349, 0.9800093007987747, 0.9920673608831502, 0.9986158628263891, 1.0]}, {\"name\": \"Resnet101-Imagenet\", \"type\": \"scatter\", \"x\": [1.0, 1.0, 1.0, 1.0, 1.0, 1.0, 1.0, 0.9914529914529914, 0.9914529914529914, 0.9764957264957266, 0.9269230769230768, 0.8388888888888889, 0.7521367521367521, 0.5457264957264959, 0.32649572649572645, 0.2183760683760683, 0.16410256410256413, 0.10384615384615384, 0.06666666666666665, 0.03931623931623932, 0.03931623931623932, 0.03418803418803419, 0.02564102564102564, 0.02564102564102564, 0.0, 0.0, 0.0, 0.0, 0.0, 0.0], \"y\": [0.0, 0.0, 0.0, 0.0, 0.0, 0.0, 0.0, 0.0, 0.0, 0.0, 0.0, 0.0, 0.0, 0.0003488736365448694, 0.0020932418192692167, 0.003137489438859302, 0.0059123720803605445, 0.014215492876271534, 0.031563551516687785, 0.06234406804341916, 0.11402756688805714, 0.19008341559350933, 0.27860741849386406, 0.39776959645020205, 0.5289631673157267, 0.6373387210625855, 0.7348156363062633, 0.8197528869338532, 0.8942503635852587, 0.9460595170346432]}, {\"name\": \"Reid-Resnet50_rectpreproc\", \"type\": \"scatter\", \"x\": [1.0, 1.0, 0.741025641025641, 0.3876068376068376, 0.1777777777777778, 0.044444444444444446, 0.005128205128205128, 0.0, 0.0, 0.0, 0.0, 0.0, 0.0, 0.0, 0.0, 0.0, 0.0, 0.0, 0.0, 0.0, 0.0, 0.0, 0.0, 0.0, 0.0, 0.0, 0.0, 0.0, 0.0, 0.0], \"y\": [0.0, 0.0, 0.0003488736365448694, 0.06042598030341361, 0.284076986558962, 0.6315080728779358, 0.8874757086130552, 0.9796875850949391, 0.9976057130004498, 0.9996532463637726, 1.0, 1.0, 1.0, 1.0, 1.0, 1.0, 1.0, 1.0, 1.0, 1.0, 1.0, 1.0, 1.0, 1.0, 1.0, 1.0, 1.0, 1.0, 1.0, 1.0]}, {\"name\": \"Reid-Resnet50\", \"type\": \"scatter\", \"x\": [1.0, 0.9863247863247864, 0.7824786324786326, 0.44145299145299133, 0.13376068376068379, 0.05726495726495727, 0.02564102564102564, 0.01282051282051282, 0.01282051282051282, 0.0, 0.0, 0.0, 0.0, 0.0, 0.0, 0.0, 0.0, 0.0, 0.0, 0.0, 0.0, 0.0, 0.0, 0.0, 0.0, 0.0, 0.0, 0.0, 0.0, 0.0], \"y\": [0.0, 0.0, 0.0013770703208338393, 0.03996853503162084, 0.25683661963222165, 0.6440334847076016, 0.8728915774517794, 0.951896236400562, 0.9807823994756222, 0.9952041287585627, 1.0, 1.0, 1.0, 1.0, 1.0, 1.0, 1.0, 1.0, 1.0, 1.0, 1.0, 1.0, 1.0, 1.0, 1.0, 1.0, 1.0, 1.0, 1.0, 1.0]}, {\"marker\": {\"color\": \"rgba(0, 0, 0, 0.75)\", \"line\": {\"width\": 1}, \"size\": 10}, \"mode\": \"lines\", \"name\": \"Perfect\", \"type\": \"scatter\", \"x\": [0, 0, 1], \"y\": [1, 0, 0]}],\n",
       "                        {\"font\": {\"color\": \"#7f7f7f\", \"family\": \"Courier New, monospace\", \"size\": 12}, \"template\": {\"data\": {\"bar\": [{\"error_x\": {\"color\": \"#2a3f5f\"}, \"error_y\": {\"color\": \"#2a3f5f\"}, \"marker\": {\"line\": {\"color\": \"#E5ECF6\", \"width\": 0.5}}, \"type\": \"bar\"}], \"barpolar\": [{\"marker\": {\"line\": {\"color\": \"#E5ECF6\", \"width\": 0.5}}, \"type\": \"barpolar\"}], \"carpet\": [{\"aaxis\": {\"endlinecolor\": \"#2a3f5f\", \"gridcolor\": \"white\", \"linecolor\": \"white\", \"minorgridcolor\": \"white\", \"startlinecolor\": \"#2a3f5f\"}, \"baxis\": {\"endlinecolor\": \"#2a3f5f\", \"gridcolor\": \"white\", \"linecolor\": \"white\", \"minorgridcolor\": \"white\", \"startlinecolor\": \"#2a3f5f\"}, \"type\": \"carpet\"}], \"choropleth\": [{\"colorbar\": {\"outlinewidth\": 0, \"ticks\": \"\"}, \"type\": \"choropleth\"}], \"contour\": [{\"colorbar\": {\"outlinewidth\": 0, \"ticks\": \"\"}, \"colorscale\": [[0.0, \"#0d0887\"], [0.1111111111111111, \"#46039f\"], [0.2222222222222222, \"#7201a8\"], [0.3333333333333333, \"#9c179e\"], [0.4444444444444444, \"#bd3786\"], [0.5555555555555556, \"#d8576b\"], [0.6666666666666666, \"#ed7953\"], [0.7777777777777778, \"#fb9f3a\"], [0.8888888888888888, \"#fdca26\"], [1.0, \"#f0f921\"]], \"type\": \"contour\"}], \"contourcarpet\": [{\"colorbar\": {\"outlinewidth\": 0, \"ticks\": \"\"}, \"type\": \"contourcarpet\"}], \"heatmap\": [{\"colorbar\": {\"outlinewidth\": 0, \"ticks\": \"\"}, \"colorscale\": [[0.0, \"#0d0887\"], [0.1111111111111111, \"#46039f\"], [0.2222222222222222, \"#7201a8\"], [0.3333333333333333, \"#9c179e\"], [0.4444444444444444, \"#bd3786\"], [0.5555555555555556, \"#d8576b\"], [0.6666666666666666, \"#ed7953\"], [0.7777777777777778, \"#fb9f3a\"], [0.8888888888888888, \"#fdca26\"], [1.0, \"#f0f921\"]], \"type\": \"heatmap\"}], \"heatmapgl\": [{\"colorbar\": {\"outlinewidth\": 0, \"ticks\": \"\"}, \"colorscale\": [[0.0, \"#0d0887\"], [0.1111111111111111, \"#46039f\"], [0.2222222222222222, \"#7201a8\"], [0.3333333333333333, \"#9c179e\"], [0.4444444444444444, \"#bd3786\"], [0.5555555555555556, \"#d8576b\"], [0.6666666666666666, \"#ed7953\"], [0.7777777777777778, \"#fb9f3a\"], [0.8888888888888888, \"#fdca26\"], [1.0, \"#f0f921\"]], \"type\": \"heatmapgl\"}], \"histogram\": [{\"marker\": {\"colorbar\": {\"outlinewidth\": 0, \"ticks\": \"\"}}, \"type\": \"histogram\"}], \"histogram2d\": [{\"colorbar\": {\"outlinewidth\": 0, \"ticks\": \"\"}, \"colorscale\": [[0.0, \"#0d0887\"], [0.1111111111111111, \"#46039f\"], [0.2222222222222222, \"#7201a8\"], [0.3333333333333333, \"#9c179e\"], [0.4444444444444444, \"#bd3786\"], [0.5555555555555556, \"#d8576b\"], [0.6666666666666666, \"#ed7953\"], [0.7777777777777778, \"#fb9f3a\"], [0.8888888888888888, \"#fdca26\"], [1.0, \"#f0f921\"]], \"type\": \"histogram2d\"}], \"histogram2dcontour\": [{\"colorbar\": {\"outlinewidth\": 0, \"ticks\": \"\"}, \"colorscale\": [[0.0, \"#0d0887\"], [0.1111111111111111, \"#46039f\"], [0.2222222222222222, \"#7201a8\"], [0.3333333333333333, \"#9c179e\"], [0.4444444444444444, \"#bd3786\"], [0.5555555555555556, \"#d8576b\"], [0.6666666666666666, \"#ed7953\"], [0.7777777777777778, \"#fb9f3a\"], [0.8888888888888888, \"#fdca26\"], [1.0, \"#f0f921\"]], \"type\": \"histogram2dcontour\"}], \"mesh3d\": [{\"colorbar\": {\"outlinewidth\": 0, \"ticks\": \"\"}, \"type\": \"mesh3d\"}], \"parcoords\": [{\"line\": {\"colorbar\": {\"outlinewidth\": 0, \"ticks\": \"\"}}, \"type\": \"parcoords\"}], \"pie\": [{\"automargin\": true, \"type\": \"pie\"}], \"scatter\": [{\"marker\": {\"colorbar\": {\"outlinewidth\": 0, \"ticks\": \"\"}}, \"type\": \"scatter\"}], \"scatter3d\": [{\"line\": {\"colorbar\": {\"outlinewidth\": 0, \"ticks\": \"\"}}, \"marker\": {\"colorbar\": {\"outlinewidth\": 0, \"ticks\": \"\"}}, \"type\": \"scatter3d\"}], \"scattercarpet\": [{\"marker\": {\"colorbar\": {\"outlinewidth\": 0, \"ticks\": \"\"}}, \"type\": \"scattercarpet\"}], \"scattergeo\": [{\"marker\": {\"colorbar\": {\"outlinewidth\": 0, \"ticks\": \"\"}}, \"type\": \"scattergeo\"}], \"scattergl\": [{\"marker\": {\"colorbar\": {\"outlinewidth\": 0, \"ticks\": \"\"}}, \"type\": \"scattergl\"}], \"scattermapbox\": [{\"marker\": {\"colorbar\": {\"outlinewidth\": 0, \"ticks\": \"\"}}, \"type\": \"scattermapbox\"}], \"scatterpolar\": [{\"marker\": {\"colorbar\": {\"outlinewidth\": 0, \"ticks\": \"\"}}, \"type\": \"scatterpolar\"}], \"scatterpolargl\": [{\"marker\": {\"colorbar\": {\"outlinewidth\": 0, \"ticks\": \"\"}}, \"type\": \"scatterpolargl\"}], \"scatterternary\": [{\"marker\": {\"colorbar\": {\"outlinewidth\": 0, \"ticks\": \"\"}}, \"type\": \"scatterternary\"}], \"surface\": [{\"colorbar\": {\"outlinewidth\": 0, \"ticks\": \"\"}, \"colorscale\": [[0.0, \"#0d0887\"], [0.1111111111111111, \"#46039f\"], [0.2222222222222222, \"#7201a8\"], [0.3333333333333333, \"#9c179e\"], [0.4444444444444444, \"#bd3786\"], [0.5555555555555556, \"#d8576b\"], [0.6666666666666666, \"#ed7953\"], [0.7777777777777778, \"#fb9f3a\"], [0.8888888888888888, \"#fdca26\"], [1.0, \"#f0f921\"]], \"type\": \"surface\"}], \"table\": [{\"cells\": {\"fill\": {\"color\": \"#EBF0F8\"}, \"line\": {\"color\": \"white\"}}, \"header\": {\"fill\": {\"color\": \"#C8D4E3\"}, \"line\": {\"color\": \"white\"}}, \"type\": \"table\"}]}, \"layout\": {\"annotationdefaults\": {\"arrowcolor\": \"#2a3f5f\", \"arrowhead\": 0, \"arrowwidth\": 1}, \"coloraxis\": {\"colorbar\": {\"outlinewidth\": 0, \"ticks\": \"\"}}, \"colorscale\": {\"diverging\": [[0, \"#8e0152\"], [0.1, \"#c51b7d\"], [0.2, \"#de77ae\"], [0.3, \"#f1b6da\"], [0.4, \"#fde0ef\"], [0.5, \"#f7f7f7\"], [0.6, \"#e6f5d0\"], [0.7, \"#b8e186\"], [0.8, \"#7fbc41\"], [0.9, \"#4d9221\"], [1, \"#276419\"]], \"sequential\": [[0.0, \"#0d0887\"], [0.1111111111111111, \"#46039f\"], [0.2222222222222222, \"#7201a8\"], [0.3333333333333333, \"#9c179e\"], [0.4444444444444444, \"#bd3786\"], [0.5555555555555556, \"#d8576b\"], [0.6666666666666666, \"#ed7953\"], [0.7777777777777778, \"#fb9f3a\"], [0.8888888888888888, \"#fdca26\"], [1.0, \"#f0f921\"]], \"sequentialminus\": [[0.0, \"#0d0887\"], [0.1111111111111111, \"#46039f\"], [0.2222222222222222, \"#7201a8\"], [0.3333333333333333, \"#9c179e\"], [0.4444444444444444, \"#bd3786\"], [0.5555555555555556, \"#d8576b\"], [0.6666666666666666, \"#ed7953\"], [0.7777777777777778, \"#fb9f3a\"], [0.8888888888888888, \"#fdca26\"], [1.0, \"#f0f921\"]]}, \"colorway\": [\"#636efa\", \"#EF553B\", \"#00cc96\", \"#ab63fa\", \"#FFA15A\", \"#19d3f3\", \"#FF6692\", \"#B6E880\", \"#FF97FF\", \"#FECB52\"], \"font\": {\"color\": \"#2a3f5f\"}, \"geo\": {\"bgcolor\": \"white\", \"lakecolor\": \"white\", \"landcolor\": \"#E5ECF6\", \"showlakes\": true, \"showland\": true, \"subunitcolor\": \"white\"}, \"hoverlabel\": {\"align\": \"left\"}, \"hovermode\": \"closest\", \"mapbox\": {\"style\": \"light\"}, \"paper_bgcolor\": \"white\", \"plot_bgcolor\": \"#E5ECF6\", \"polar\": {\"angularaxis\": {\"gridcolor\": \"white\", \"linecolor\": \"white\", \"ticks\": \"\"}, \"bgcolor\": \"#E5ECF6\", \"radialaxis\": {\"gridcolor\": \"white\", \"linecolor\": \"white\", \"ticks\": \"\"}}, \"scene\": {\"xaxis\": {\"backgroundcolor\": \"#E5ECF6\", \"gridcolor\": \"white\", \"gridwidth\": 2, \"linecolor\": \"white\", \"showbackground\": true, \"ticks\": \"\", \"zerolinecolor\": \"white\"}, \"yaxis\": {\"backgroundcolor\": \"#E5ECF6\", \"gridcolor\": \"white\", \"gridwidth\": 2, \"linecolor\": \"white\", \"showbackground\": true, \"ticks\": \"\", \"zerolinecolor\": \"white\"}, \"zaxis\": {\"backgroundcolor\": \"#E5ECF6\", \"gridcolor\": \"white\", \"gridwidth\": 2, \"linecolor\": \"white\", \"showbackground\": true, \"ticks\": \"\", \"zerolinecolor\": \"white\"}}, \"shapedefaults\": {\"line\": {\"color\": \"#2a3f5f\"}}, \"ternary\": {\"aaxis\": {\"gridcolor\": \"white\", \"linecolor\": \"white\", \"ticks\": \"\"}, \"baxis\": {\"gridcolor\": \"white\", \"linecolor\": \"white\", \"ticks\": \"\"}, \"bgcolor\": \"#E5ECF6\", \"caxis\": {\"gridcolor\": \"white\", \"linecolor\": \"white\", \"ticks\": \"\"}}, \"title\": {\"x\": 0.05}, \"xaxis\": {\"automargin\": true, \"gridcolor\": \"white\", \"linecolor\": \"white\", \"ticks\": \"\", \"title\": {\"standoff\": 15}, \"zerolinecolor\": \"white\", \"zerolinewidth\": 2}, \"yaxis\": {\"automargin\": true, \"gridcolor\": \"white\", \"linecolor\": \"white\", \"ticks\": \"\", \"title\": {\"standoff\": 15}, \"zerolinecolor\": \"white\", \"zerolinewidth\": 2}}}, \"title\": {\"text\": \"Indoor Scene Matching on 78 indoor scenes\", \"x\": 0.5, \"xanchor\": \"center\"}, \"xaxis\": {\"title\": {\"text\": \"False Non-Match Rate\"}}, \"yaxis\": {\"title\": {\"text\": \"False Match Rate\"}}},\n",
       "                        {\"responsive\": true}\n",
       "                    ).then(function(){\n",
       "                            \n",
       "var gd = document.getElementById('a4b26f1f-82b1-491c-aba4-8b0c0e095c0a');\n",
       "var x = new MutationObserver(function (mutations, observer) {{\n",
       "        var display = window.getComputedStyle(gd).display;\n",
       "        if (!display || display === 'none') {{\n",
       "            console.log([gd, 'removed!']);\n",
       "            Plotly.purge(gd);\n",
       "            observer.disconnect();\n",
       "        }}\n",
       "}});\n",
       "\n",
       "// Listen for the removal of the full notebook cells\n",
       "var notebookContainer = gd.closest('#notebook-container');\n",
       "if (notebookContainer) {{\n",
       "    x.observe(notebookContainer, {childList: true});\n",
       "}}\n",
       "\n",
       "// Listen for the clearing of the current output cell\n",
       "var outputEl = gd.closest('.output');\n",
       "if (outputEl) {{\n",
       "    x.observe(outputEl, {childList: true});\n",
       "}}\n",
       "\n",
       "                        })\n",
       "                };\n",
       "                });\n",
       "            </script>\n",
       "        </div>"
      ]
     },
     "metadata": {},
     "output_type": "display_data"
    }
   ],
   "source": [
    "import plotly.graph_objects as go\n",
    "\n",
    "fig = go.Figure()\n",
    "\n",
    "\n",
    "\n",
    "resnet18_trace = go.Scatter(x=np.array(rn18_mean_fnmrs),\n",
    "                            y=np.array(rn18_mean_fmrs),\n",
    "                            name='Resnet18-Imagenet')\n",
    "\n",
    "resnet50_trace = go.Scatter(x=np.array(mean_fnmrs),\n",
    "                            y=np.array(mean_fmrs),\n",
    "                            name='Resnet50-Imagenet')\n",
    "\n",
    "resnet101_trace = go.Scatter(x=np.array(rn101_mean_fnmrs),\n",
    "                             y=np.array(rn101_mean_fmrs),\n",
    "                            name='Resnet101-Imagenet')\n",
    "\n",
    "reid_resnet50_rectpreproc_trace = go.Scatter(x=np.array(reid_rn50_mean_fnmrs_rectpreproc),\n",
    "                             y=np.array(reid_rn50_mean_fmrs_rectpreproc),\n",
    "                            name='Reid-Resnet50_rectpreproc')\n",
    "\n",
    "reid_resnet50_trace = go.Scatter(x=np.array(reid_rn50_mean_fnmrs),\n",
    "                             y=np.array(reid_rn50_mean_fmrs),\n",
    "                            name='Reid-Resnet50')\n",
    "\n",
    "\n",
    "perfect_trace = go.Scatter(x=np.array([0, 0, 1]),\n",
    "                           y=np.array([1, 0, 0]),\n",
    "                           name='Perfect',\n",
    "                           mode='lines',\n",
    "                            marker=dict(\n",
    "                                color='rgba(0, 0, 0, 0.75)',\n",
    "                                size=10,\n",
    "                                line=dict(\n",
    "#                                     color='MediumPurple',\n",
    "                                    width=1\n",
    "                                )\n",
    "                            ),\n",
    "                          )\n",
    "                           \n",
    "\n",
    "\n",
    "fig.add_trace(resnet18_trace)\n",
    "fig.add_trace(resnet50_trace)\n",
    "fig.add_trace(resnet101_trace)\n",
    "fig.add_trace(reid_resnet50_rectpreproc_trace)\n",
    "fig.add_trace(reid_resnet50_trace)\n",
    "fig.add_trace(perfect_trace)\n",
    "\n",
    "fig.update_layout(\n",
    "    title={'text': \"Indoor Scene Matching on 78 indoor scenes\",\n",
    "           'x': 0.5,\n",
    "           'xanchor': 'center'},\n",
    "    xaxis_title=\"False Non-Match Rate\",\n",
    "    yaxis_title=\"False Match Rate\",\n",
    "    font=dict(\n",
    "        family=\"Courier New, monospace\",\n",
    "        size=12,\n",
    "        color=\"#7f7f7f\"\n",
    "    )\n",
    ")\n",
    "\n",
    "fig.show()"
   ]
  },
  {
   "cell_type": "code",
   "execution_count": null,
   "metadata": {},
   "outputs": [],
   "source": []
  }
 ],
 "metadata": {
  "kernelspec": {
   "display_name": "Python 3",
   "language": "python",
   "name": "python3"
  },
  "language_info": {
   "codemirror_mode": {
    "name": "ipython",
    "version": 3
   },
   "file_extension": ".py",
   "mimetype": "text/x-python",
   "name": "python",
   "nbconvert_exporter": "python",
   "pygments_lexer": "ipython3",
   "version": "3.6.8"
  }
 },
 "nbformat": 4,
 "nbformat_minor": 2
}
